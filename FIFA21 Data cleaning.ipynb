{
 "cells": [
  {
   "cell_type": "code",
   "execution_count": 170,
   "metadata": {},
   "outputs": [
    {
     "name": "stdout",
     "output_type": "stream",
     "text": [
      "           ID               Name                      LongName  \\\n",
      "0      158023           L. Messi                  Lionel Messi   \n",
      "1       20801  Cristiano Ronaldo  C. Ronaldo dos Santos Aveiro   \n",
      "2      200389           J. Oblak                     Jan Oblak   \n",
      "3      192985       K. De Bruyne               Kevin De Bruyne   \n",
      "4      190871          Neymar Jr    Neymar da Silva Santos Jr.   \n",
      "...       ...                ...                           ...   \n",
      "18974  247223             Xia Ao                        Ao Xia   \n",
      "18975  258760           B. Hough                     Ben Hough   \n",
      "18976  252757        R. McKinley                Ronan McKinley   \n",
      "18977  243790       Wang Zhen'ao                  Zhen'ao Wang   \n",
      "18978  252520          Zhou Xiao                     Xiao Zhou   \n",
      "\n",
      "                                               photoUrl  \\\n",
      "0      https://cdn.sofifa.com/players/158/023/21_60.png   \n",
      "1      https://cdn.sofifa.com/players/020/801/21_60.png   \n",
      "2      https://cdn.sofifa.com/players/200/389/21_60.png   \n",
      "3      https://cdn.sofifa.com/players/192/985/21_60.png   \n",
      "4      https://cdn.sofifa.com/players/190/871/21_60.png   \n",
      "...                                                 ...   \n",
      "18974  https://cdn.sofifa.com/players/247/223/21_60.png   \n",
      "18975  https://cdn.sofifa.com/players/258/760/21_60.png   \n",
      "18976  https://cdn.sofifa.com/players/252/757/21_60.png   \n",
      "18977  https://cdn.sofifa.com/players/243/790/21_60.png   \n",
      "18978  https://cdn.sofifa.com/players/252/520/21_60.png   \n",
      "\n",
      "                                               playerUrl Nationality  Age  \\\n",
      "0      http://sofifa.com/player/158023/lionel-messi/2...   Argentina   33   \n",
      "1      http://sofifa.com/player/20801/c-ronaldo-dos-s...    Portugal   35   \n",
      "2      http://sofifa.com/player/200389/jan-oblak/210006/    Slovenia   27   \n",
      "3      http://sofifa.com/player/192985/kevin-de-bruyn...     Belgium   29   \n",
      "4      http://sofifa.com/player/190871/neymar-da-silv...      Brazil   28   \n",
      "...                                                  ...         ...  ...   \n",
      "18974     http://sofifa.com/player/247223/ao-xia/210006/    China PR   21   \n",
      "18975  http://sofifa.com/player/258760/ben-hough/210006/     England   17   \n",
      "18976  http://sofifa.com/player/252757/ronan-mckinley...     England   18   \n",
      "18977  http://sofifa.com/player/243790/zhenao-wang/21...    China PR   20   \n",
      "18978  http://sofifa.com/player/252520/xiao-zhou/210006/    China PR   21   \n",
      "\n",
      "       ↓OVA  POT                         Club  ...     A/W     D/W   IR PAC  \\\n",
      "0        93   93         \\n\\n\\n\\nFC Barcelona  ...  Medium     Low  5 ★  85   \n",
      "1        92   92             \\n\\n\\n\\nJuventus  ...    High     Low  5 ★  89   \n",
      "2        91   93      \\n\\n\\n\\nAtlético Madrid  ...  Medium  Medium  3 ★  87   \n",
      "3        91   91      \\n\\n\\n\\nManchester City  ...    High    High  4 ★  76   \n",
      "4        91   91  \\n\\n\\n\\nParis Saint-Germain  ...    High  Medium  5 ★  91   \n",
      "...     ...  ...                          ...  ...     ...     ...  ...  ..   \n",
      "18974    47   55           \\n\\n\\n\\nWuhan Zall  ...  Medium  Medium  1 ★  64   \n",
      "18975    47   67      \\n\\n\\n\\nOldham Athletic  ...  Medium  Medium  1 ★  64   \n",
      "18976    47   65           \\n\\n\\n\\nDerry City  ...  Medium  Medium  1 ★  63   \n",
      "18977    47   57     \\n\\n\\n\\nDalian YiFang FC  ...  Medium  Medium  1 ★  58   \n",
      "18978    47   57     \\n\\n\\n\\nDalian YiFang FC  ...  Medium  Medium  1 ★  62   \n",
      "\n",
      "      SHO  PAS DRI DEF PHY Hits  \n",
      "0      92   91  95  38  65  771  \n",
      "1      93   81  89  35  77  562  \n",
      "2      92   78  90  52  90  150  \n",
      "3      86   93  88  64  78  207  \n",
      "4      85   86  94  36  59  595  \n",
      "...    ..  ...  ..  ..  ..  ...  \n",
      "18974  28   26  38  48  51  NaN  \n",
      "18975  40   48  49  35  45  NaN  \n",
      "18976  39   44  46  40  53  NaN  \n",
      "18977  49   41  49  30  44  NaN  \n",
      "18978  22   39  42  45  55  NaN  \n",
      "\n",
      "[18979 rows x 77 columns]\n"
     ]
    }
   ],
   "source": [
    "import pandas as pd\n",
    "import numpy as np\n",
    "import re\n",
    "\n",
    "df = pd.read_csv('D:\\\\BIG DATA LEVEL-2\\\\WEB ANALYTICS AND BUSINESS INTELLIGENCE\\\\FIFA 21.csv',low_memory=False)\n",
    "print(df)"
   ]
  },
  {
   "cell_type": "code",
   "execution_count": 171,
   "metadata": {},
   "outputs": [
    {
     "data": {
      "text/html": [
       "<div>\n",
       "<style scoped>\n",
       "    .dataframe tbody tr th:only-of-type {\n",
       "        vertical-align: middle;\n",
       "    }\n",
       "\n",
       "    .dataframe tbody tr th {\n",
       "        vertical-align: top;\n",
       "    }\n",
       "\n",
       "    .dataframe thead th {\n",
       "        text-align: right;\n",
       "    }\n",
       "</style>\n",
       "<table border=\"1\" class=\"dataframe\">\n",
       "  <thead>\n",
       "    <tr style=\"text-align: right;\">\n",
       "      <th></th>\n",
       "      <th>ID</th>\n",
       "      <th>Name</th>\n",
       "      <th>LongName</th>\n",
       "      <th>photoUrl</th>\n",
       "      <th>playerUrl</th>\n",
       "      <th>Nationality</th>\n",
       "      <th>Age</th>\n",
       "      <th>↓OVA</th>\n",
       "      <th>POT</th>\n",
       "      <th>Club</th>\n",
       "      <th>...</th>\n",
       "      <th>A/W</th>\n",
       "      <th>D/W</th>\n",
       "      <th>IR</th>\n",
       "      <th>PAC</th>\n",
       "      <th>SHO</th>\n",
       "      <th>PAS</th>\n",
       "      <th>DRI</th>\n",
       "      <th>DEF</th>\n",
       "      <th>PHY</th>\n",
       "      <th>Hits</th>\n",
       "    </tr>\n",
       "  </thead>\n",
       "  <tbody>\n",
       "    <tr>\n",
       "      <th>0</th>\n",
       "      <td>158023</td>\n",
       "      <td>L. Messi</td>\n",
       "      <td>Lionel Messi</td>\n",
       "      <td>https://cdn.sofifa.com/players/158/023/21_60.png</td>\n",
       "      <td>http://sofifa.com/player/158023/lionel-messi/2...</td>\n",
       "      <td>Argentina</td>\n",
       "      <td>33</td>\n",
       "      <td>93</td>\n",
       "      <td>93</td>\n",
       "      <td>\\n\\n\\n\\nFC Barcelona</td>\n",
       "      <td>...</td>\n",
       "      <td>Medium</td>\n",
       "      <td>Low</td>\n",
       "      <td>5 ★</td>\n",
       "      <td>85</td>\n",
       "      <td>92</td>\n",
       "      <td>91</td>\n",
       "      <td>95</td>\n",
       "      <td>38</td>\n",
       "      <td>65</td>\n",
       "      <td>771</td>\n",
       "    </tr>\n",
       "    <tr>\n",
       "      <th>1</th>\n",
       "      <td>20801</td>\n",
       "      <td>Cristiano Ronaldo</td>\n",
       "      <td>C. Ronaldo dos Santos Aveiro</td>\n",
       "      <td>https://cdn.sofifa.com/players/020/801/21_60.png</td>\n",
       "      <td>http://sofifa.com/player/20801/c-ronaldo-dos-s...</td>\n",
       "      <td>Portugal</td>\n",
       "      <td>35</td>\n",
       "      <td>92</td>\n",
       "      <td>92</td>\n",
       "      <td>\\n\\n\\n\\nJuventus</td>\n",
       "      <td>...</td>\n",
       "      <td>High</td>\n",
       "      <td>Low</td>\n",
       "      <td>5 ★</td>\n",
       "      <td>89</td>\n",
       "      <td>93</td>\n",
       "      <td>81</td>\n",
       "      <td>89</td>\n",
       "      <td>35</td>\n",
       "      <td>77</td>\n",
       "      <td>562</td>\n",
       "    </tr>\n",
       "    <tr>\n",
       "      <th>2</th>\n",
       "      <td>200389</td>\n",
       "      <td>J. Oblak</td>\n",
       "      <td>Jan Oblak</td>\n",
       "      <td>https://cdn.sofifa.com/players/200/389/21_60.png</td>\n",
       "      <td>http://sofifa.com/player/200389/jan-oblak/210006/</td>\n",
       "      <td>Slovenia</td>\n",
       "      <td>27</td>\n",
       "      <td>91</td>\n",
       "      <td>93</td>\n",
       "      <td>\\n\\n\\n\\nAtlético Madrid</td>\n",
       "      <td>...</td>\n",
       "      <td>Medium</td>\n",
       "      <td>Medium</td>\n",
       "      <td>3 ★</td>\n",
       "      <td>87</td>\n",
       "      <td>92</td>\n",
       "      <td>78</td>\n",
       "      <td>90</td>\n",
       "      <td>52</td>\n",
       "      <td>90</td>\n",
       "      <td>150</td>\n",
       "    </tr>\n",
       "    <tr>\n",
       "      <th>3</th>\n",
       "      <td>192985</td>\n",
       "      <td>K. De Bruyne</td>\n",
       "      <td>Kevin De Bruyne</td>\n",
       "      <td>https://cdn.sofifa.com/players/192/985/21_60.png</td>\n",
       "      <td>http://sofifa.com/player/192985/kevin-de-bruyn...</td>\n",
       "      <td>Belgium</td>\n",
       "      <td>29</td>\n",
       "      <td>91</td>\n",
       "      <td>91</td>\n",
       "      <td>\\n\\n\\n\\nManchester City</td>\n",
       "      <td>...</td>\n",
       "      <td>High</td>\n",
       "      <td>High</td>\n",
       "      <td>4 ★</td>\n",
       "      <td>76</td>\n",
       "      <td>86</td>\n",
       "      <td>93</td>\n",
       "      <td>88</td>\n",
       "      <td>64</td>\n",
       "      <td>78</td>\n",
       "      <td>207</td>\n",
       "    </tr>\n",
       "    <tr>\n",
       "      <th>4</th>\n",
       "      <td>190871</td>\n",
       "      <td>Neymar Jr</td>\n",
       "      <td>Neymar da Silva Santos Jr.</td>\n",
       "      <td>https://cdn.sofifa.com/players/190/871/21_60.png</td>\n",
       "      <td>http://sofifa.com/player/190871/neymar-da-silv...</td>\n",
       "      <td>Brazil</td>\n",
       "      <td>28</td>\n",
       "      <td>91</td>\n",
       "      <td>91</td>\n",
       "      <td>\\n\\n\\n\\nParis Saint-Germain</td>\n",
       "      <td>...</td>\n",
       "      <td>High</td>\n",
       "      <td>Medium</td>\n",
       "      <td>5 ★</td>\n",
       "      <td>91</td>\n",
       "      <td>85</td>\n",
       "      <td>86</td>\n",
       "      <td>94</td>\n",
       "      <td>36</td>\n",
       "      <td>59</td>\n",
       "      <td>595</td>\n",
       "    </tr>\n",
       "  </tbody>\n",
       "</table>\n",
       "<p>5 rows × 77 columns</p>\n",
       "</div>"
      ],
      "text/plain": [
       "       ID               Name                      LongName  \\\n",
       "0  158023           L. Messi                  Lionel Messi   \n",
       "1   20801  Cristiano Ronaldo  C. Ronaldo dos Santos Aveiro   \n",
       "2  200389           J. Oblak                     Jan Oblak   \n",
       "3  192985       K. De Bruyne               Kevin De Bruyne   \n",
       "4  190871          Neymar Jr    Neymar da Silva Santos Jr.   \n",
       "\n",
       "                                           photoUrl  \\\n",
       "0  https://cdn.sofifa.com/players/158/023/21_60.png   \n",
       "1  https://cdn.sofifa.com/players/020/801/21_60.png   \n",
       "2  https://cdn.sofifa.com/players/200/389/21_60.png   \n",
       "3  https://cdn.sofifa.com/players/192/985/21_60.png   \n",
       "4  https://cdn.sofifa.com/players/190/871/21_60.png   \n",
       "\n",
       "                                           playerUrl Nationality  Age  ↓OVA  \\\n",
       "0  http://sofifa.com/player/158023/lionel-messi/2...   Argentina   33    93   \n",
       "1  http://sofifa.com/player/20801/c-ronaldo-dos-s...    Portugal   35    92   \n",
       "2  http://sofifa.com/player/200389/jan-oblak/210006/    Slovenia   27    91   \n",
       "3  http://sofifa.com/player/192985/kevin-de-bruyn...     Belgium   29    91   \n",
       "4  http://sofifa.com/player/190871/neymar-da-silv...      Brazil   28    91   \n",
       "\n",
       "   POT                         Club  ...     A/W     D/W   IR PAC SHO  PAS  \\\n",
       "0   93         \\n\\n\\n\\nFC Barcelona  ...  Medium     Low  5 ★  85  92   91   \n",
       "1   92             \\n\\n\\n\\nJuventus  ...    High     Low  5 ★  89  93   81   \n",
       "2   93      \\n\\n\\n\\nAtlético Madrid  ...  Medium  Medium  3 ★  87  92   78   \n",
       "3   91      \\n\\n\\n\\nManchester City  ...    High    High  4 ★  76  86   93   \n",
       "4   91  \\n\\n\\n\\nParis Saint-Germain  ...    High  Medium  5 ★  91  85   86   \n",
       "\n",
       "  DRI DEF PHY Hits  \n",
       "0  95  38  65  771  \n",
       "1  89  35  77  562  \n",
       "2  90  52  90  150  \n",
       "3  88  64  78  207  \n",
       "4  94  36  59  595  \n",
       "\n",
       "[5 rows x 77 columns]"
      ]
     },
     "execution_count": 171,
     "metadata": {},
     "output_type": "execute_result"
    }
   ],
   "source": [
    "df.head(5)"
   ]
  },
  {
   "cell_type": "code",
   "execution_count": 172,
   "metadata": {},
   "outputs": [
    {
     "data": {
      "text/plain": [
       "ID              0\n",
       "Name            0\n",
       "LongName        0\n",
       "photoUrl        0\n",
       "playerUrl       0\n",
       "             ... \n",
       "PAS             0\n",
       "DRI             0\n",
       "DEF             0\n",
       "PHY             0\n",
       "Hits         2595\n",
       "Length: 77, dtype: int64"
      ]
     },
     "execution_count": 172,
     "metadata": {},
     "output_type": "execute_result"
    }
   ],
   "source": [
    "df.isnull().sum()"
   ]
  },
  {
   "cell_type": "markdown",
   "metadata": {},
   "source": [
    "NOTE: Checking null values in dataset. We got to know that Hits column has 2595 null rows."
   ]
  },
  {
   "cell_type": "code",
   "execution_count": 173,
   "metadata": {},
   "outputs": [
    {
     "data": {
      "text/plain": [
       "(18979, 77)"
      ]
     },
     "execution_count": 173,
     "metadata": {},
     "output_type": "execute_result"
    }
   ],
   "source": [
    "df.drop_duplicates\n",
    "df.shape"
   ]
  },
  {
   "cell_type": "code",
   "execution_count": 174,
   "metadata": {},
   "outputs": [
    {
     "name": "stdout",
     "output_type": "stream",
     "text": [
      "<class 'pandas.core.frame.DataFrame'>\n",
      "RangeIndex: 18979 entries, 0 to 18978\n",
      "Data columns (total 77 columns):\n",
      " #   Column            Non-Null Count  Dtype \n",
      "---  ------            --------------  ----- \n",
      " 0   ID                18979 non-null  int64 \n",
      " 1   Name              18979 non-null  object\n",
      " 2   LongName          18979 non-null  object\n",
      " 3   photoUrl          18979 non-null  object\n",
      " 4   playerUrl         18979 non-null  object\n",
      " 5   Nationality       18979 non-null  object\n",
      " 6   Age               18979 non-null  int64 \n",
      " 7   ↓OVA              18979 non-null  int64 \n",
      " 8   POT               18979 non-null  int64 \n",
      " 9   Club              18979 non-null  object\n",
      " 10  Contract          18979 non-null  object\n",
      " 11  Positions         18979 non-null  object\n",
      " 12  Height            18979 non-null  object\n",
      " 13  Weight            18979 non-null  object\n",
      " 14  Preferred Foot    18979 non-null  object\n",
      " 15  BOV               18979 non-null  int64 \n",
      " 16  Best Position     18979 non-null  object\n",
      " 17  Joined            18979 non-null  object\n",
      " 18  Loan Date End     1013 non-null   object\n",
      " 19  Value             18979 non-null  object\n",
      " 20  Wage              18979 non-null  object\n",
      " 21  Release Clause    18979 non-null  object\n",
      " 22  Attacking         18979 non-null  int64 \n",
      " 23  Crossing          18979 non-null  int64 \n",
      " 24  Finishing         18979 non-null  int64 \n",
      " 25  Heading Accuracy  18979 non-null  int64 \n",
      " 26  Short Passing     18979 non-null  int64 \n",
      " 27  Volleys           18979 non-null  int64 \n",
      " 28  Skill             18979 non-null  int64 \n",
      " 29  Dribbling         18979 non-null  int64 \n",
      " 30  Curve             18979 non-null  int64 \n",
      " 31  FK Accuracy       18979 non-null  int64 \n",
      " 32  Long Passing      18979 non-null  int64 \n",
      " 33  Ball Control      18979 non-null  int64 \n",
      " 34  Movement          18979 non-null  int64 \n",
      " 35  Acceleration      18979 non-null  int64 \n",
      " 36  Sprint Speed      18979 non-null  int64 \n",
      " 37  Agility           18979 non-null  int64 \n",
      " 38  Reactions         18979 non-null  int64 \n",
      " 39  Balance           18979 non-null  int64 \n",
      " 40  Power             18979 non-null  int64 \n",
      " 41  Shot Power        18979 non-null  int64 \n",
      " 42  Jumping           18979 non-null  int64 \n",
      " 43  Stamina           18979 non-null  int64 \n",
      " 44  Strength          18979 non-null  int64 \n",
      " 45  Long Shots        18979 non-null  int64 \n",
      " 46  Mentality         18979 non-null  int64 \n",
      " 47  Aggression        18979 non-null  int64 \n",
      " 48  Interceptions     18979 non-null  int64 \n",
      " 49  Positioning       18979 non-null  int64 \n",
      " 50  Vision            18979 non-null  int64 \n",
      " 51  Penalties         18979 non-null  int64 \n",
      " 52  Composure         18979 non-null  int64 \n",
      " 53  Defending         18979 non-null  int64 \n",
      " 54  Marking           18979 non-null  int64 \n",
      " 55  Standing Tackle   18979 non-null  int64 \n",
      " 56  Sliding Tackle    18979 non-null  int64 \n",
      " 57  Goalkeeping       18979 non-null  int64 \n",
      " 58  GK Diving         18979 non-null  int64 \n",
      " 59  GK Handling       18979 non-null  int64 \n",
      " 60  GK Kicking        18979 non-null  int64 \n",
      " 61  GK Positioning    18979 non-null  int64 \n",
      " 62  GK Reflexes       18979 non-null  int64 \n",
      " 63  Total Stats       18979 non-null  int64 \n",
      " 64  Base Stats        18979 non-null  int64 \n",
      " 65  W/F               18979 non-null  object\n",
      " 66  SM                18979 non-null  object\n",
      " 67  A/W               18979 non-null  object\n",
      " 68  D/W               18979 non-null  object\n",
      " 69  IR                18979 non-null  object\n",
      " 70  PAC               18979 non-null  int64 \n",
      " 71  SHO               18979 non-null  int64 \n",
      " 72  PAS               18979 non-null  int64 \n",
      " 73  DRI               18979 non-null  int64 \n",
      " 74  DEF               18979 non-null  int64 \n",
      " 75  PHY               18979 non-null  int64 \n",
      " 76  Hits              16384 non-null  object\n",
      "dtypes: int64(54), object(23)\n",
      "memory usage: 11.1+ MB\n"
     ]
    }
   ],
   "source": [
    "df.info()"
   ]
  },
  {
   "cell_type": "markdown",
   "metadata": {},
   "source": [
    "Convert the height and weight columns to numerical forms."
   ]
  },
  {
   "cell_type": "code",
   "execution_count": 175,
   "metadata": {},
   "outputs": [
    {
     "name": "stdout",
     "output_type": "stream",
     "text": [
      "['170cm' '187cm' '188cm' '181cm' '175cm' '184cm' '191cm' '178cm' '193cm'\n",
      " '185cm' '199cm' '173cm' '168cm' '176cm' '177cm' '183cm' '180cm' '189cm'\n",
      " '179cm' '195cm' '172cm' '182cm' '186cm' '192cm' '165cm' '194cm' '167cm'\n",
      " '196cm' '163cm' '190cm' '174cm' '169cm' '171cm' '197cm' '200cm' '166cm'\n",
      " '6\\'2\"' '164cm' '198cm' '6\\'3\"' '6\\'5\"' '5\\'11\"' '6\\'4\"' '6\\'1\"' '6\\'0\"'\n",
      " '5\\'10\"' '5\\'9\"' '5\\'6\"' '5\\'7\"' '5\\'4\"' '201cm' '158cm' '162cm' '161cm'\n",
      " '160cm' '203cm' '157cm' '156cm' '202cm' '159cm' '206cm' '155cm']\n"
     ]
    }
   ],
   "source": [
    "height_counts = df['Height'].unique()\n",
    "print(height_counts)"
   ]
  },
  {
   "cell_type": "code",
   "execution_count": 176,
   "metadata": {},
   "outputs": [
    {
     "name": "stdout",
     "output_type": "stream",
     "text": [
      "Height\n",
      "180    1480\n",
      "178    1254\n",
      "185    1185\n",
      "183    1156\n",
      "175    1094\n",
      "188     935\n",
      "182     887\n",
      "184     817\n",
      "186     816\n",
      "177     738\n",
      "187     711\n",
      "181     708\n",
      "176     670\n",
      "179     662\n",
      "173     610\n",
      "190     583\n",
      "174     540\n",
      "170     498\n",
      "191     466\n",
      "189     462\n",
      "172     458\n",
      "193     322\n",
      "192     298\n",
      "171     277\n",
      "168     218\n",
      "169     178\n",
      "194     177\n",
      "196     142\n",
      "195     138\n",
      "167     114\n",
      "165      94\n",
      "166      63\n",
      "197      58\n",
      "198      41\n",
      "164      31\n",
      "163      20\n",
      "199      17\n",
      "162      13\n",
      "201      13\n",
      "200       7\n",
      "160       7\n",
      "161       6\n",
      "202       4\n",
      "158       3\n",
      "203       2\n",
      "159       2\n",
      "157       1\n",
      "156       1\n",
      "206       1\n",
      "155       1\n",
      "Name: count, dtype: int64\n"
     ]
    }
   ],
   "source": [
    "def convert_height(height:str):\n",
    "    if \"cm\" in height:\n",
    "        return int(height.replace('cm',''))\n",
    "    elif \"'\" in height:\n",
    "        feet_inch = re.split(\"\\'\", height)\n",
    "        return int(round(float(feet_inch[0])* 30.48 + float(feet_inch[1].replace('\"', ''))* 2.54))\n",
    "\n",
    "df['Height'] = df['Height'].apply(convert_height)\n",
    "\n",
    "height_counts = df['Height'].value_counts()\n",
    "print(height_counts)\n"
   ]
  },
  {
   "cell_type": "markdown",
   "metadata": {},
   "source": [
    "NOTE: Here, converting all data into cm, and converting it to int format. Also remove unit cm from dataframe."
   ]
  },
  {
   "cell_type": "code",
   "execution_count": 177,
   "metadata": {},
   "outputs": [
    {
     "data": {
      "text/plain": [
       "dtype('int64')"
      ]
     },
     "execution_count": 177,
     "metadata": {},
     "output_type": "execute_result"
    }
   ],
   "source": [
    "df.Height.dtypes"
   ]
  },
  {
   "cell_type": "markdown",
   "metadata": {},
   "source": [
    "NOTE: Datatype of Heights is int now."
   ]
  },
  {
   "cell_type": "code",
   "execution_count": 178,
   "metadata": {},
   "outputs": [
    {
     "name": "stdout",
     "output_type": "stream",
     "text": [
      "['72kg' '83kg' '87kg' '70kg' '68kg' '80kg' '71kg' '91kg' '73kg' '85kg'\n",
      " '92kg' '69kg' '84kg' '96kg' '81kg' '82kg' '75kg' '86kg' '89kg' '74kg'\n",
      " '76kg' '64kg' '78kg' '90kg' '66kg' '60kg' '94kg' '79kg' '67kg' '65kg'\n",
      " '59kg' '61kg' '93kg' '88kg' '97kg' '77kg' '62kg' '63kg' '95kg' '100kg'\n",
      " '58kg' '183lbs' '179lbs' '172lbs' '196lbs' '176lbs' '185lbs' '170lbs'\n",
      " '203lbs' '168lbs' '161lbs' '146lbs' '130lbs' '190lbs' '174lbs' '148lbs'\n",
      " '165lbs' '159lbs' '192lbs' '181lbs' '139lbs' '154lbs' '157lbs' '163lbs'\n",
      " '98kg' '103kg' '99kg' '102kg' '56kg' '101kg' '57kg' '55kg' '104kg'\n",
      " '107kg' '110kg' '53kg' '50kg' '54kg' '52kg']\n"
     ]
    }
   ],
   "source": [
    "weight_counts = df['Weight'].unique()\n",
    "print(weight_counts)"
   ]
  },
  {
   "cell_type": "code",
   "execution_count": 179,
   "metadata": {},
   "outputs": [
    {
     "name": "stdout",
     "output_type": "stream",
     "text": [
      "Weight\n",
      "70     1496\n",
      "75     1459\n",
      "80     1109\n",
      "72     1024\n",
      "78      995\n",
      "74      957\n",
      "73      956\n",
      "77      893\n",
      "76      880\n",
      "68      795\n",
      "79      684\n",
      "71      648\n",
      "82      622\n",
      "69      565\n",
      "65      535\n",
      "81      523\n",
      "83      515\n",
      "67      508\n",
      "84      444\n",
      "85      423\n",
      "66      401\n",
      "64      341\n",
      "86      285\n",
      "88      266\n",
      "63      239\n",
      "87      224\n",
      "62      181\n",
      "90      156\n",
      "60      153\n",
      "89      128\n",
      "61       96\n",
      "91       87\n",
      "92       68\n",
      "93       52\n",
      "58       44\n",
      "59       41\n",
      "94       34\n",
      "95       30\n",
      "57       19\n",
      "55       17\n",
      "96       15\n",
      "98       13\n",
      "56       12\n",
      "97        9\n",
      "100       8\n",
      "54        5\n",
      "103       4\n",
      "102       4\n",
      "101       4\n",
      "99        3\n",
      "104       3\n",
      "52        2\n",
      "107       1\n",
      "110       1\n",
      "53        1\n",
      "50        1\n",
      "Name: count, dtype: int64\n"
     ]
    }
   ],
   "source": [
    "def convert_weight(weight: str):\n",
    "    if \"kg\" in weight:\n",
    "        return int(weight.replace('kg',''))\n",
    "    elif \"lb\" in weight:\n",
    "        lbs = int(weight.replace('lbs',''))\n",
    "        return int(round(lbs*0.453592))\n",
    "\n",
    "df['Weight'] = df['Weight'].apply(convert_weight)\n",
    "\n",
    "weight_counts = df['Weight'].value_counts()\n",
    "print(weight_counts)"
   ]
  },
  {
   "cell_type": "markdown",
   "metadata": {},
   "source": [
    "NOTE: Weight should be convert in kg and int datatype. And weight which are in lbs is rounded with a formula."
   ]
  },
  {
   "cell_type": "markdown",
   "metadata": {},
   "source": [
    "Remove the unnecessary newline characters from all columns that have them. "
   ]
  },
  {
   "cell_type": "code",
   "execution_count": 180,
   "metadata": {},
   "outputs": [
    {
     "name": "stdout",
     "output_type": "stream",
     "text": [
      "Columns with newline characters: ['Club']\n"
     ]
    }
   ],
   "source": [
    "columns_with_newline = []\n",
    "for column in df.columns:\n",
    "    if df[column].apply(lambda x: '\\n' in str(x)).any():\n",
    "        columns_with_newline.append(column)\n",
    "\n",
    "# Print columns with newline characters\n",
    "print(\"Columns with newline characters:\", columns_with_newline)"
   ]
  },
  {
   "cell_type": "code",
   "execution_count": 181,
   "metadata": {},
   "outputs": [
    {
     "name": "stdout",
     "output_type": "stream",
     "text": [
      "0           FC Barcelona\n",
      "1               Juventus\n",
      "2        Atlético Madrid\n",
      "3        Manchester City\n",
      "4    Paris Saint-Germain\n",
      "Name: Club, dtype: object\n"
     ]
    }
   ],
   "source": [
    "df['Club'] = df['Club'].str.replace('\\n', '', regex=True)\n",
    "print(df['Club'].head(5))"
   ]
  },
  {
   "cell_type": "markdown",
   "metadata": {},
   "source": [
    "NOTE: Column name 'Club' has new line character in the beginning. By replacing \\n with '' it removes new line character."
   ]
  },
  {
   "cell_type": "markdown",
   "metadata": {},
   "source": [
    "'Value', 'Wage' and \"Release Clause' are string columns. Convert them to numbers. For eg, \"M\" in value column is Million, so multiply the row values by 1,000,000, etc. "
   ]
  },
  {
   "cell_type": "code",
   "execution_count": 182,
   "metadata": {},
   "outputs": [
    {
     "data": {
      "text/html": [
       "<div>\n",
       "<style scoped>\n",
       "    .dataframe tbody tr th:only-of-type {\n",
       "        vertical-align: middle;\n",
       "    }\n",
       "\n",
       "    .dataframe tbody tr th {\n",
       "        vertical-align: top;\n",
       "    }\n",
       "\n",
       "    .dataframe thead th {\n",
       "        text-align: right;\n",
       "    }\n",
       "</style>\n",
       "<table border=\"1\" class=\"dataframe\">\n",
       "  <thead>\n",
       "    <tr style=\"text-align: right;\">\n",
       "      <th></th>\n",
       "      <th>Value</th>\n",
       "      <th>Wage</th>\n",
       "      <th>Release Clause</th>\n",
       "    </tr>\n",
       "  </thead>\n",
       "  <tbody>\n",
       "    <tr>\n",
       "      <th>0</th>\n",
       "      <td>103500000</td>\n",
       "      <td>560000</td>\n",
       "      <td>138400000</td>\n",
       "    </tr>\n",
       "    <tr>\n",
       "      <th>1</th>\n",
       "      <td>63000000</td>\n",
       "      <td>220000</td>\n",
       "      <td>75900000</td>\n",
       "    </tr>\n",
       "    <tr>\n",
       "      <th>2</th>\n",
       "      <td>120000000</td>\n",
       "      <td>125000</td>\n",
       "      <td>159400000</td>\n",
       "    </tr>\n",
       "    <tr>\n",
       "      <th>3</th>\n",
       "      <td>129000000</td>\n",
       "      <td>370000</td>\n",
       "      <td>161000000</td>\n",
       "    </tr>\n",
       "    <tr>\n",
       "      <th>4</th>\n",
       "      <td>132000000</td>\n",
       "      <td>270000</td>\n",
       "      <td>166500000</td>\n",
       "    </tr>\n",
       "    <tr>\n",
       "      <th>...</th>\n",
       "      <td>...</td>\n",
       "      <td>...</td>\n",
       "      <td>...</td>\n",
       "    </tr>\n",
       "    <tr>\n",
       "      <th>18974</th>\n",
       "      <td>100000</td>\n",
       "      <td>1000</td>\n",
       "      <td>70000</td>\n",
       "    </tr>\n",
       "    <tr>\n",
       "      <th>18975</th>\n",
       "      <td>130000</td>\n",
       "      <td>500</td>\n",
       "      <td>165000</td>\n",
       "    </tr>\n",
       "    <tr>\n",
       "      <th>18976</th>\n",
       "      <td>120000</td>\n",
       "      <td>500</td>\n",
       "      <td>131000</td>\n",
       "    </tr>\n",
       "    <tr>\n",
       "      <th>18977</th>\n",
       "      <td>100000</td>\n",
       "      <td>2000</td>\n",
       "      <td>88000</td>\n",
       "    </tr>\n",
       "    <tr>\n",
       "      <th>18978</th>\n",
       "      <td>100000</td>\n",
       "      <td>1000</td>\n",
       "      <td>79000</td>\n",
       "    </tr>\n",
       "  </tbody>\n",
       "</table>\n",
       "<p>18979 rows × 3 columns</p>\n",
       "</div>"
      ],
      "text/plain": [
       "           Value    Wage  Release Clause\n",
       "0      103500000  560000       138400000\n",
       "1       63000000  220000        75900000\n",
       "2      120000000  125000       159400000\n",
       "3      129000000  370000       161000000\n",
       "4      132000000  270000       166500000\n",
       "...          ...     ...             ...\n",
       "18974     100000    1000           70000\n",
       "18975     130000     500          165000\n",
       "18976     120000     500          131000\n",
       "18977     100000    2000           88000\n",
       "18978     100000    1000           79000\n",
       "\n",
       "[18979 rows x 3 columns]"
      ]
     },
     "execution_count": 182,
     "metadata": {},
     "output_type": "execute_result"
    }
   ],
   "source": [
    "def convert_money(money: str):\n",
    "    if '€' in money:\n",
    "        money=money.replace(\"€\",\"\")\n",
    "    if 'M' in money:\n",
    "        return int(float(money.replace('M',''))*1000000)\n",
    "    elif 'K' in money:\n",
    "        return int(float(money.replace('K',''))*1000)\n",
    "    else:\n",
    "        return int(money) \n",
    "\n",
    "df['Value'] = df['Value'].apply(convert_money)\n",
    "df['Wage'] = df['Wage'].apply(convert_money)\n",
    "df['Release Clause'] = df['Release Clause'].apply(convert_money)\n",
    "df[['Value','Wage','Release Clause']]"
   ]
  },
  {
   "cell_type": "markdown",
   "metadata": {},
   "source": [
    "NOTE: Covert_money function replace € with \"\", number which contain M multiply with 1000000 and K with 1000."
   ]
  },
  {
   "cell_type": "markdown",
   "metadata": {},
   "source": [
    "Some columns have 'star' characters. Strip those columns of these stars and make the columns numerical."
   ]
  },
  {
   "cell_type": "code",
   "execution_count": 183,
   "metadata": {},
   "outputs": [
    {
     "name": "stdout",
     "output_type": "stream",
     "text": [
      "Columns with star characters: ['W/F', 'SM', 'IR']\n"
     ]
    }
   ],
   "source": [
    "columns_with_star = []\n",
    "for column in df.columns:\n",
    "    if df[column].apply(lambda x: '★' in str(x)).any():\n",
    "        columns_with_star.append(column)\n",
    "\n",
    "# Print columns with star characters\n",
    "print(\"Columns with star characters:\", columns_with_star)"
   ]
  },
  {
   "cell_type": "code",
   "execution_count": 184,
   "metadata": {},
   "outputs": [
    {
     "name": "stdout",
     "output_type": "stream",
     "text": [
      "      W/F SM  IR\n",
      "0      4   4  5 \n",
      "1      4   5  5 \n",
      "2      3   1  3 \n",
      "3      5   4  4 \n",
      "4      5   5  5 \n",
      "...    .. ..  ..\n",
      "18974  2   2  1 \n",
      "18975  2   2  1 \n",
      "18976  2   2  1 \n",
      "18977  3   2  1 \n",
      "18978  3   2  1 \n",
      "\n",
      "[18979 rows x 3 columns]\n"
     ]
    }
   ],
   "source": [
    "columns_star = ['W/F', 'SM', 'IR']\n",
    "for column in columns_star:\n",
    "    df[column] = df[column].replace('★', '', regex=True)\n",
    "print(df[columns_star])"
   ]
  },
  {
   "cell_type": "markdown",
   "metadata": {},
   "source": [
    "NOTE: Column names W/F,SM,IR columns has ★. So, here replacing that with space. By using lambda function to create simple expression and call the function. "
   ]
  },
  {
   "cell_type": "markdown",
   "metadata": {},
   "source": [
    "Remove further outliers from data and generate a summary report stating all the changes."
   ]
  },
  {
   "cell_type": "code",
   "execution_count": 185,
   "metadata": {},
   "outputs": [],
   "source": [
    "df = df.rename(columns={'LongName':'FullName'})"
   ]
  },
  {
   "cell_type": "markdown",
   "metadata": {},
   "source": [
    "NOTE: Renaming LongName with FullName."
   ]
  },
  {
   "cell_type": "code",
   "execution_count": 186,
   "metadata": {},
   "outputs": [
    {
     "data": {
      "text/plain": [
       "array(['771', '562', '150', '207', '595', '248', '246', '120', '1.6K',\n",
       "       '130', '321', '189', '175', '96', '118', '216', '212', '154',\n",
       "       '205', '202', '339', '408', '103', '332', '86', '173', '161',\n",
       "       '396', '1.1K', '433', '242', '206', '177', '1.5K', '198', '459',\n",
       "       '117', '119', '209', '84', '187', '165', '203', '65', '336', '126',\n",
       "       '313', '124', '145', '538', '182', '101', '45', '377', '99', '194',\n",
       "       '403', '414', '593', '374', '245', '3.2K', '266', '299', '309',\n",
       "       '215', '265', '211', '112', '337', '70', '159', '688', '116', '63',\n",
       "       '144', '123', '71', '224', '113', '168', '61', '89', '137', '278',\n",
       "       '75', '148', '176', '197', '264', '214', '247', '402', '440',\n",
       "       '1.7K', '2.3K', '171', '320', '657', '87', '259', '200', '255',\n",
       "       '253', '196', '60', '97', '85', '169', '256', '132', '239', '166',\n",
       "       '121', '109', '32', '46', '122', '48', '527', '199', '282', '51',\n",
       "       '1.9K', '642', '155', '323', '288', '497', '509', '79', '49',\n",
       "       '270', '511', '80', '128', '115', '156', '204', '143', '140',\n",
       "       '152', '220', '134', '225', '94', '74', '135', '142', '50', '77',\n",
       "       '40', '107', '193', '179', '34', '64', '453', '57', '81', '28',\n",
       "       '78', '133', '43', '425', '88', '42', '36', '233', '376', '210',\n",
       "       '444', '100', '263', '98', '29', '160', '39', '257', '6', '310',\n",
       "       '138', '62', '293', '285', '362', '66', '69', '58', '21', '20',\n",
       "       '131', '38', '406', '68', '108', '110', '93', '512', '443', '306',\n",
       "       '352', '422', '585', '346', '178', '841', '76', '394', '72', '172',\n",
       "       '44', '407', '230', '367', '295', '157', '243', '56', '111', '326',\n",
       "       '679', '18', '92', '59', '25', '184', '53', '12', '90', '55', '73',\n",
       "       '11', '566', '180', '83', '262', '17', '26', '31', '280', '359',\n",
       "       '213', '297', '387', '480', '381', '677', '486', '8', '244', '129',\n",
       "       '388', '275', '319', '2K', '52', '91', '421', '153', '27', '41',\n",
       "       '222', '35', '102', '23', '30', '33', '146', '13', '19', '14',\n",
       "       '106', '276', '568', '353', '47', '478', '249', '254', '369',\n",
       "       '219', '565', '237', '227', '434', '375', '162', '605', '654', '3',\n",
       "       '7', '9', '104', '114', '186', '446', '756', '22', '139', '500',\n",
       "       '67', '147', '149', '16', '82', '54', '37', '15', '1.3K', '3K',\n",
       "       '952', '5', '749', '541', '330', '393', '517', '770', '409', '170',\n",
       "       '125', '283', '342', '363', '580', '105', '217', '24', '141', '10',\n",
       "       '427', '158', '426', '4', '666', '181', '324', '979', '1.4K',\n",
       "       '302', '751', '298', '411', '944', '2', '947', '292', '349', '621',\n",
       "       '1', '2.8K', '338', '287', '261', '218', '1.8K', '240', '279',\n",
       "       '229', '188', '315', '664', '613', '190', '706', '127', '462',\n",
       "       '386', '695', '491', '167', '281', '250', '307', '95', '231',\n",
       "       '174', '680', '633', '221', '348', '602', '183', '653', '195',\n",
       "       '164', '151', '258', '8.4K', '343', '419', '655', '136', '399',\n",
       "       '531', '357', '228', '385', '312', '340', '238', '487', '355',\n",
       "       '499', '4.3K', '296', '515', '943', '1.2K', '903', '335', '191',\n",
       "       '594', '267', '617', '516', '504', '331', '652', '410', '550',\n",
       "       '473', '442', '344', '208', '1K', '2.5K', '273', '485', '826',\n",
       "       '192', '405', '941', '477', '644', '303', '417', '6K', nan],\n",
       "      dtype=object)"
      ]
     },
     "execution_count": 186,
     "metadata": {},
     "output_type": "execute_result"
    }
   ],
   "source": [
    "df.Hits.unique()"
   ]
  },
  {
   "cell_type": "code",
   "execution_count": 187,
   "metadata": {},
   "outputs": [
    {
     "name": "stdout",
     "output_type": "stream",
     "text": [
      "<class 'pandas.core.frame.DataFrame'>\n",
      "RangeIndex: 18979 entries, 0 to 18978\n",
      "Data columns (total 77 columns):\n",
      " #   Column            Non-Null Count  Dtype \n",
      "---  ------            --------------  ----- \n",
      " 0   ID                18979 non-null  int64 \n",
      " 1   Name              18979 non-null  object\n",
      " 2   FullName          18979 non-null  object\n",
      " 3   photoUrl          18979 non-null  object\n",
      " 4   playerUrl         18979 non-null  object\n",
      " 5   Nationality       18979 non-null  object\n",
      " 6   Age               18979 non-null  int64 \n",
      " 7   ↓OVA              18979 non-null  int64 \n",
      " 8   POT               18979 non-null  int64 \n",
      " 9   Club              18979 non-null  object\n",
      " 10  Contract          18979 non-null  object\n",
      " 11  Positions         18979 non-null  object\n",
      " 12  Height            18979 non-null  int64 \n",
      " 13  Weight            18979 non-null  int64 \n",
      " 14  Preferred Foot    18979 non-null  object\n",
      " 15  BOV               18979 non-null  int64 \n",
      " 16  Best Position     18979 non-null  object\n",
      " 17  Joined            18979 non-null  object\n",
      " 18  Loan Date End     1013 non-null   object\n",
      " 19  Value             18979 non-null  int64 \n",
      " 20  Wage              18979 non-null  int64 \n",
      " 21  Release Clause    18979 non-null  int64 \n",
      " 22  Attacking         18979 non-null  int64 \n",
      " 23  Crossing          18979 non-null  int64 \n",
      " 24  Finishing         18979 non-null  int64 \n",
      " 25  Heading Accuracy  18979 non-null  int64 \n",
      " 26  Short Passing     18979 non-null  int64 \n",
      " 27  Volleys           18979 non-null  int64 \n",
      " 28  Skill             18979 non-null  int64 \n",
      " 29  Dribbling         18979 non-null  int64 \n",
      " 30  Curve             18979 non-null  int64 \n",
      " 31  FK Accuracy       18979 non-null  int64 \n",
      " 32  Long Passing      18979 non-null  int64 \n",
      " 33  Ball Control      18979 non-null  int64 \n",
      " 34  Movement          18979 non-null  int64 \n",
      " 35  Acceleration      18979 non-null  int64 \n",
      " 36  Sprint Speed      18979 non-null  int64 \n",
      " 37  Agility           18979 non-null  int64 \n",
      " 38  Reactions         18979 non-null  int64 \n",
      " 39  Balance           18979 non-null  int64 \n",
      " 40  Power             18979 non-null  int64 \n",
      " 41  Shot Power        18979 non-null  int64 \n",
      " 42  Jumping           18979 non-null  int64 \n",
      " 43  Stamina           18979 non-null  int64 \n",
      " 44  Strength          18979 non-null  int64 \n",
      " 45  Long Shots        18979 non-null  int64 \n",
      " 46  Mentality         18979 non-null  int64 \n",
      " 47  Aggression        18979 non-null  int64 \n",
      " 48  Interceptions     18979 non-null  int64 \n",
      " 49  Positioning       18979 non-null  int64 \n",
      " 50  Vision            18979 non-null  int64 \n",
      " 51  Penalties         18979 non-null  int64 \n",
      " 52  Composure         18979 non-null  int64 \n",
      " 53  Defending         18979 non-null  int64 \n",
      " 54  Marking           18979 non-null  int64 \n",
      " 55  Standing Tackle   18979 non-null  int64 \n",
      " 56  Sliding Tackle    18979 non-null  int64 \n",
      " 57  Goalkeeping       18979 non-null  int64 \n",
      " 58  GK Diving         18979 non-null  int64 \n",
      " 59  GK Handling       18979 non-null  int64 \n",
      " 60  GK Kicking        18979 non-null  int64 \n",
      " 61  GK Positioning    18979 non-null  int64 \n",
      " 62  GK Reflexes       18979 non-null  int64 \n",
      " 63  Total Stats       18979 non-null  int64 \n",
      " 64  Base Stats        18979 non-null  int64 \n",
      " 65  W/F               18979 non-null  object\n",
      " 66  SM                18979 non-null  object\n",
      " 67  A/W               18979 non-null  object\n",
      " 68  D/W               18979 non-null  object\n",
      " 69  IR                18979 non-null  object\n",
      " 70  PAC               18979 non-null  int64 \n",
      " 71  SHO               18979 non-null  int64 \n",
      " 72  PAS               18979 non-null  int64 \n",
      " 73  DRI               18979 non-null  int64 \n",
      " 74  DEF               18979 non-null  int64 \n",
      " 75  PHY               18979 non-null  int64 \n",
      " 76  Hits              18979 non-null  object\n",
      "dtypes: int64(59), object(18)\n",
      "memory usage: 11.1+ MB\n"
     ]
    }
   ],
   "source": [
    "df.Hits = df.Hits.fillna('0')\n",
    "df.info()"
   ]
  },
  {
   "cell_type": "markdown",
   "metadata": {},
   "source": [
    "NOTE: There are some data in Hits column are null. Therefore, filling that rows with 0."
   ]
  },
  {
   "cell_type": "code",
   "execution_count": 188,
   "metadata": {},
   "outputs": [
    {
     "data": {
      "text/plain": [
       "0        771.0\n",
       "1        562.0\n",
       "2        150.0\n",
       "3        207.0\n",
       "4        595.0\n",
       "         ...  \n",
       "18974      0.0\n",
       "18975      0.0\n",
       "18976      0.0\n",
       "18977      0.0\n",
       "18978      0.0\n",
       "Name: Hits, Length: 18979, dtype: float64"
      ]
     },
     "execution_count": 188,
     "metadata": {},
     "output_type": "execute_result"
    }
   ],
   "source": [
    "def covert_Hits(hits: str):\n",
    "    hits = str(hits)\n",
    "    if 'K' not in hits:\n",
    "        return float(hits)\n",
    "    else:\n",
    "        return float(hits.replace('K',''))*1000\n",
    "        \n",
    "df['Hits'] = df['Hits'].apply(covert_Hits)\n",
    "df['Hits']"
   ]
  },
  {
   "cell_type": "markdown",
   "metadata": {},
   "source": [
    "NOTE: Here, column Hits has K means thousand so, multiplying this with 1000."
   ]
  },
  {
   "cell_type": "code",
   "execution_count": 189,
   "metadata": {},
   "outputs": [],
   "source": [
    "df = df.rename(columns={'↓OVA':'OVA'})"
   ]
  },
  {
   "cell_type": "markdown",
   "metadata": {},
   "source": [
    "NOTE: Renaming ↓OVA with OVA."
   ]
  },
  {
   "cell_type": "code",
   "execution_count": 190,
   "metadata": {},
   "outputs": [],
   "source": [
    "from datetime import datetime\n",
    "df['Joined'] = df['Joined'].apply(lambda x: datetime.strptime(x, \"%d-%b-%y\"))"
   ]
  },
  {
   "cell_type": "code",
   "execution_count": 191,
   "metadata": {},
   "outputs": [
    {
     "data": {
      "text/plain": [
       "0       2004-07-01\n",
       "1       2018-07-10\n",
       "2       2014-07-16\n",
       "3       2015-08-30\n",
       "4       2017-08-03\n",
       "           ...    \n",
       "18974   2018-07-13\n",
       "18975   2020-08-01\n",
       "18976   2019-03-08\n",
       "18977   2020-09-22\n",
       "18978   2019-07-29\n",
       "Name: Joined, Length: 18979, dtype: datetime64[ns]"
      ]
     },
     "execution_count": 191,
     "metadata": {},
     "output_type": "execute_result"
    }
   ],
   "source": [
    "df['Joined']"
   ]
  },
  {
   "cell_type": "markdown",
   "metadata": {},
   "source": [
    "NOTE: By using strptime() method creates a datetime object from the string in this format \"%d-%b-%y\"."
   ]
  },
  {
   "cell_type": "code",
   "execution_count": 192,
   "metadata": {},
   "outputs": [
    {
     "data": {
      "text/plain": [
       "array(['2004 ~ 2021', '2018 ~ 2022', '2014 ~ 2023', '2015 ~ 2023',\n",
       "       '2017 ~ 2022', '2017 ~ 2023', '2018 ~ 2024', '2014 ~ 2022',\n",
       "       '2018 ~ 2023', '2016 ~ 2023', '2013 ~ 2023', '2011 ~ 2023',\n",
       "       '2009 ~ 2022', '2005 ~ 2021', '2011 ~ 2021', '2015 ~ 2022',\n",
       "       '2017 ~ 2024', '2010 ~ 2024', '2012 ~ 2021', '2019 ~ 2024',\n",
       "       '2015 ~ 2024', '2017 ~ 2025', '2020 ~ 2025', '2019 ~ 2023',\n",
       "       '2008 ~ 2023', '2015 ~ 2021', '2020 ~ 2022', '2012 ~ 2022',\n",
       "       '2016 ~ 2025', '2013 ~ 2022', '2011 ~ 2022', '2012 ~ 2024',\n",
       "       '2016 ~ 2021', '2012 ~ 2023', '2008 ~ 2022', '2019 ~ 2022',\n",
       "       '2017 ~ 2021', '2013 ~ 2024', '2020 ~ 2024', '2010 ~ 2022',\n",
       "       '2020 ~ 2021', '2011 ~ 2024', '2020 ~ 2023', '2014 ~ 2024',\n",
       "       '2013 ~ 2026', '2016 ~ 2022', '2010 ~ 2021', '2013 ~ 2021',\n",
       "       '2019 ~ 2025', '2018 ~ 2025', '2016 ~ 2024', '2018 ~ 2021',\n",
       "       '2009 ~ 2024', '2007 ~ 2022', 'Jun 30, 2021 On Loan',\n",
       "       '2009 ~ 2021', '2019 ~ 2021', '2019 ~ 2026', 'Free', '2012 ~ 2028',\n",
       "       '2010 ~ 2023', '2014 ~ 2021', '2015 ~ 2025', '2014 ~ 2026',\n",
       "       '2012 ~ 2025', '2017 ~ 2020', '2002 ~ 2022', '2020 ~ 2027',\n",
       "       '2013 ~ 2025', 'Dec 31, 2020 On Loan', '2019 ~ 2020',\n",
       "       '2011 ~ 2025', '2016 ~ 2020', '2007 ~ 2021', '2020 ~ 2026',\n",
       "       '2010 ~ 2025', '2009 ~ 2023', '2008 ~ 2021', '2020 ~ 2020',\n",
       "       '2016 ~ 2026', 'Jan 30, 2021 On Loan', '2012 ~ 2020',\n",
       "       '2014 ~ 2025', 'Jun 30, 2022 On Loan', '2015 ~ 2020',\n",
       "       'May 31, 2021 On Loan', '2018 ~ 2020', '2014 ~ 2020',\n",
       "       '2013 ~ 2020', '2006 ~ 2024', 'Jul 5, 2021 On Loan',\n",
       "       'Dec 31, 2021 On Loan', '2004 ~ 2025', '2011 ~ 2020',\n",
       "       'Jul 1, 2021 On Loan', 'Jan 1, 2021 On Loan', '2006 ~ 2023',\n",
       "       'Aug 31, 2021 On Loan', '2006 ~ 2021', '2005 ~ 2023',\n",
       "       '2003 ~ 2020', '2009 ~ 2020', '2002 ~ 2020', '2005 ~ 2020',\n",
       "       '2005 ~ 2022', 'Jan 31, 2021 On Loan', '2010 ~ 2020',\n",
       "       'Dec 30, 2021 On Loan', '2008 ~ 2020', '2007 ~ 2020',\n",
       "       '2003 ~ 2021', 'Jun 23, 2021 On Loan', 'Jan 3, 2021 On Loan',\n",
       "       'Nov 27, 2021 On Loan', '2002 ~ 2021', 'Jan 17, 2021 On Loan',\n",
       "       'Jun 30, 2023 On Loan', '1998 ~ 2021', '2003 ~ 2022',\n",
       "       '2007 ~ 2023', 'Jul 31, 2021 On Loan', 'Nov 22, 2020 On Loan',\n",
       "       'May 31, 2022 On Loan', '2006 ~ 2020', 'Dec 30, 2020 On Loan',\n",
       "       '2007 ~ 2025', 'Jan 4, 2021 On Loan', 'Nov 30, 2020 On Loan',\n",
       "       '2004 ~ 2020', '2009 ~ 2025', 'Aug 1, 2021 On Loan'], dtype=object)"
      ]
     },
     "execution_count": 192,
     "metadata": {},
     "output_type": "execute_result"
    }
   ],
   "source": [
    "df.Contract.unique()"
   ]
  },
  {
   "cell_type": "code",
   "execution_count": 193,
   "metadata": {},
   "outputs": [],
   "source": [
    "def Clean_Contract(a):\n",
    "    if '~' in a:\n",
    "        start_year, end_year = a.split(' ~ ')\n",
    "        return int(end_year) - int(start_year)\n",
    "    else:\n",
    "        return 0\n"
   ]
  },
  {
   "cell_type": "code",
   "execution_count": 194,
   "metadata": {},
   "outputs": [
    {
     "data": {
      "text/plain": [
       "0    17\n",
       "1     4\n",
       "2     9\n",
       "3     8\n",
       "4     5\n",
       "Name: Contract_Duration, dtype: int64"
      ]
     },
     "execution_count": 194,
     "metadata": {},
     "output_type": "execute_result"
    }
   ],
   "source": [
    "df['Contract_Duration'] = df['Contract'].apply(Clean_Contract)\n",
    "# Rename the column to Contract status\n",
    "df.Contract_Duration.head()"
   ]
  },
  {
   "cell_type": "markdown",
   "metadata": {},
   "source": [
    "NOTE: Clean_Contract function refers to split years which has '~' and provide difference of it for cleaning of Contract column and made new column name Contract_Duration."
   ]
  },
  {
   "cell_type": "code",
   "execution_count": 195,
   "metadata": {},
   "outputs": [
    {
     "data": {
      "text/plain": [
       "array([17,  4,  9,  8,  5,  6,  7, 10, 12, 13, 16, 14, 15,  2, 11,  3,  1,\n",
       "        0, 20, 18, 21, 19, 23], dtype=int64)"
      ]
     },
     "execution_count": 195,
     "metadata": {},
     "output_type": "execute_result"
    }
   ],
   "source": [
    "df.Contract_Duration.unique()"
   ]
  },
  {
   "cell_type": "code",
   "execution_count": 196,
   "metadata": {},
   "outputs": [
    {
     "data": {
      "text/plain": [
       "array(['RW, ST, CF', 'ST, LW', 'GK', 'CAM, CM', 'LW, CAM', 'ST', 'RW',\n",
       "       'ST, LW, RW', 'CB', 'LW', 'CDM', 'CF, ST', 'LW, RW', 'CDM, CM',\n",
       "       'CDM, RB', 'CF, CAM', 'LW, ST', 'CM', 'ST, CF, LW', 'RM, LM, CAM',\n",
       "       'RB', 'RW, CAM, CM', 'LB', 'LM, CF', 'CF', 'RW, LW', 'CAM, RM, RW',\n",
       "       'CM, CDM', 'CAM, CF, ST', 'CM, CDM, CAM', 'CF, LW, CAM',\n",
       "       'CAM, RM, CF', 'LM, ST', 'RM, LM, RW', 'LM', 'CAM, RW', 'CB, CDM',\n",
       "       'RW, RM', 'LW, CF', 'CM, RM, LM', 'LB, LM', 'CAM, CM, RM',\n",
       "       'CAM, CM, CF', 'CAM, CF', 'LM, RM, LW', 'LM, LB, CM', 'CM, LM, LB',\n",
       "       'RM, RW', 'RM, CM', 'CAM, CM, LW', 'CB, LB', 'RM, RB', 'ST, RW',\n",
       "       'LM, RW, LW', 'RB, LB', 'RB, RM', 'RM', 'LM, RM, CF', 'CAM, RM',\n",
       "       'RB, RWB', 'CDM, CB, CM', 'CAM, RM, ST', 'LM, LW, RM', 'CM, CAM',\n",
       "       'ST, RM, CF', 'LM, RM', 'RM, CF', 'LM, LWB', 'RW, RM, CF',\n",
       "       'RB, CM', 'LW, CAM, RW', 'CAM, LW, CM', 'CM, CAM, CDM',\n",
       "       'RW, LW, CAM', 'CM, CAM, LM', 'CM, RM, ST', 'CDM, CM, RB',\n",
       "       'ST, CAM', 'CAM, LW, ST', 'LB, CB, LWB', 'RM, ST', 'CB, CDM, LB',\n",
       "       'RWB, RM', 'CM, LM, RM', 'RB, CDM, CM', 'RW, LW, RM', 'LM, LW',\n",
       "       'CM, LM', 'LM, LB', 'RM, LM, CF', 'LB, LM, RM', 'CDM, CM, CAM',\n",
       "       'ST, LW, RM', 'CAM, CM, ST', 'ST, CF', 'LWB, LB', 'LW, RW, LM',\n",
       "       'RM, RW, ST', 'LWB', 'CF, ST, CAM', 'LM, CAM, RM', 'RB, CB',\n",
       "       'ST, LM', 'RW, CAM', 'LM, CAM', 'RWB, RB', 'ST, RW, LW', 'CAM',\n",
       "       'RB, RM, RW', 'LB, LWB', 'RM, CAM', 'CAM, ST', 'CDM, CB',\n",
       "       'CF, LM, LW', 'CAM, LM, LW', 'LW, RW, CAM', 'CB, RB',\n",
       "       'RB, CB, RWB', 'LM, LW, ST', 'LW, ST, CM', 'RM, CAM, CM',\n",
       "       'CB, RB, RWB', 'RW, ST, LW', 'LW, CAM, CM', 'CM, LM, CDM',\n",
       "       'LB, LM, LWB', 'CB, LB, RB', 'CAM, LW', 'RWB, RB, RM',\n",
       "       'CF, CAM, ST', 'RM, CAM, RW', 'RW, ST', 'LW, LM', 'RB, RM, CM',\n",
       "       'ST, CAM, RW', 'CM, RB, LB', 'CAM, LM, RM', 'RB, RW', 'LM, CM',\n",
       "       'RM, LM, CM', 'CDM, CM, CB', 'CM, CF', 'CF, LW, RW', 'ST, RM',\n",
       "       'CAM, CM, CDM', 'LB, CB', 'RW, RWB', 'ST, LM, RM', 'RM, RWB, RB',\n",
       "       'LM, ST, CAM', 'CAM, ST, CF', 'LW, CM', 'RB, RWB, LB', 'RM, LM',\n",
       "       'CM, CAM, RM', 'ST, LW, CAM', 'RM, RW, CAM', 'CM, CDM, RM',\n",
       "       'RB, RM, RWB', 'CDM, CB, LB', 'CAM, ST, LM', 'LM, CM, RM',\n",
       "       'CF, RW', 'CAM, RM, LW', 'CM, RM, CDM', 'LB, LWB, LM',\n",
       "       'LW, RW, CF', 'LW, LM, CAM', 'LWB, LW, LB', 'CDM, CM, LM',\n",
       "       'CB, CM', 'RWB, RW, RB', 'ST, RW, RM', 'LW, RW, CM', 'LM, RM, CAM',\n",
       "       'LB, RB', 'RWB, RM, RB', 'LM, RB, LB', 'LW, LM, ST', 'ST, RM, LM',\n",
       "       'CAM, CM, LM', 'CF, CM', 'LW, ST, RW', 'ST, CAM, CF', 'LB, CB, LM',\n",
       "       'CM, CDM, LM', 'RM, RWB', 'LB, LM, RB', 'RB, LB, CB',\n",
       "       'CM, CDM, RB', 'LB, CM', 'CF, CAM, LW', 'RM, LWB', 'CF, ST, LM',\n",
       "       'LB, RB, CB', 'LW, CF, ST', 'RM, ST, CAM', 'LW, RW, ST',\n",
       "       'ST, LW, LM', 'CM, LW', 'CDM, CM, LB', 'CM, RM, CAM',\n",
       "       'ST, CF, CAM', 'CM, LM, CAM', 'RWB', 'LM, ST, RM', 'CAM, RM, CM',\n",
       "       'CAM, LM, CM', 'RW, LW, ST', 'CAM, RM, LM', 'CF, ST, LW',\n",
       "       'LWB, LB, LM', 'RM, CM, CAM', 'LB, LM, CAM', 'CAM, CDM',\n",
       "       'RW, RB, RM', 'RM, ST, RW', 'CM, CAM, LW', 'CF, ST, RW',\n",
       "       'LM, RM, RB', 'LM, RM, CM', 'CB, RB, RM', 'RB, CDM', 'RM, ST, LM',\n",
       "       'LB, LWB, CB', 'CDM, LB', 'LM, RM, ST', 'RWB, RB, LWB',\n",
       "       'ST, LM, CAM', 'ST, RM, CAM', 'RB, RWB, RM', 'CF, LM, CAM',\n",
       "       'CAM, CF, RW', 'RB, RM, LB', 'CDM, RWB', 'CM, RW, CAM',\n",
       "       'ST, CF, LM', 'RM, LM, RWB', 'RB, LB, RM', 'LM, LW, LB',\n",
       "       'RM, LM, ST', 'CAM, LM', 'ST, LM, LW', 'LW, RW, RM', 'CF, LW',\n",
       "       'LB, CM, RB', 'RB, CB, CDM', 'CB, RB, LB', 'CAM, RW, RM',\n",
       "       'LWB, LM', 'LW, CF, LM', 'CAM, CF, CM', 'LWB, CB', 'CM, CDM, LW',\n",
       "       'LM, CM, LB', 'CM, RM', 'RW, LW, CF', 'CM, CDM, CB', 'LM, RM, RW',\n",
       "       'RM, RW, LM', 'RM, CAM, LM', 'LWB, RM, LB', 'RM, LB, RB',\n",
       "       'CM, CF, RM', 'RM, RB, LB', 'ST, LM, RW', 'CAM, ST, LW',\n",
       "       'CF, LW, ST', 'LM, LW, CAM', 'RM, RW, CF', 'LW, LM, CF',\n",
       "       'CM, RW, LW', 'LM, CM, CAM', 'CAM, RW, ST', 'CM, CAM, CF',\n",
       "       'RW, LWB, LW', 'CB, RB, CDM', 'RW, RM, LW', 'LW, ST, LM',\n",
       "       'RWB, RW', 'ST, CAM, LM', 'CM, CB', 'RM, RW, CM', 'LWB, CM',\n",
       "       'RM, LM, LB', 'RM, CAM, ST', 'CDM, RM, RB', 'LM, LB, RB',\n",
       "       'LB, RB, RWB', 'RM, RWB, CAM', 'CAM, LM, CF', 'LM, CAM, CM',\n",
       "       'CF, CAM, RW', 'CDM, CM, RM', 'CF, CAM, CM', 'ST, RM, LW',\n",
       "       'CB, CDM, CM', 'RB, RW, LB', 'ST, RW, CAM', 'CM, LB', 'LW, RM, RW',\n",
       "       'CM, RM, RW', 'RM, CF, LM', 'CF, LM, RM', 'CAM, ST, RM', 'RW, CF',\n",
       "       'CM, CAM, ST', 'CAM, CDM, CM', 'RM, RW, LW', 'CAM, LM, LB',\n",
       "       'CAM, RW, LW', 'CDM, CAM', 'LWB, LM, LB', 'RW, LB', 'LW, CAM, CF',\n",
       "       'RB, RWB, CB', 'LM, CF, RM', 'RB, LB, RWB', 'RM, LW',\n",
       "       'CAM, LM, ST', 'LW, LM, LB', 'LB, RB, RM', 'CM, LWB',\n",
       "       'CDM, RB, RM', 'RM, CM, RB', 'ST, RM, RW', 'LM, RM, LWB',\n",
       "       'RW, LW, LM', 'LW, CF, RW', 'CM, CDM, LB', 'ST, LM, RB', 'LB, CDM',\n",
       "       'CM, CB, CDM', 'CB, LB, CDM', 'RW, ST, RM', 'RM, ST, CF',\n",
       "       'CAM, LW, LM', 'LM, ST, LW', 'CAM, RM, RB', 'RB, CM, RM',\n",
       "       'CM, LW, LM', 'ST, CAM, RM', 'RW, ST, CAM', 'CM, LB, LM',\n",
       "       'RB, CDM, RM', 'LM, RWB, RM', 'LM, CAM, LB', 'CAM, LW, RW',\n",
       "       'CM, RM, RWB', 'RW, CAM, LW', 'RB, CB, LB', 'LB, LM, LW', 'RW, RB',\n",
       "       'LM, LWB, CM', 'RM, CAM, RB', 'RM, CM, ST', 'RB, RM, LM',\n",
       "       'LM, LB, LW', 'LM, ST, CF', 'RW, LWB, RM', 'LM, CAM, LW',\n",
       "       'CB, RWB', 'RM, LW, CAM', 'LB, LW', 'CDM, CM, ST', 'LB, CM, CDM',\n",
       "       'CF, CAM, LM', 'RW, CAM, RM', 'RW, LM, LW', 'RW, CM, CAM',\n",
       "       'LM, LW, RW', 'RM, LW, RW', 'LW, LWB, RWB', 'RM, LM, RB',\n",
       "       'CB, CDM, RB', 'CAM, RW, CM', 'ST, CAM, CM', 'LWB, LM, CM',\n",
       "       'RW, LW, RWB', 'CB, LB, LWB', 'CM, LM, ST', 'CM, LWB, LM',\n",
       "       'LB, LW, LM', 'RB, CM, CAM', 'RM, CAM, CF', 'CM, RW',\n",
       "       'RW, RM, CAM', 'CB, LWB', 'CAM, RB', 'LM, CM, CDM', 'RM, LB, LM',\n",
       "       'CB, RB, CM', 'RB, CM, RWB', 'LB, RB, LM', 'CAM, ST, RW',\n",
       "       'LB, LW, RW', 'CDM, CAM, CM', 'CAM, ST, CM', 'LM, CAM, ST',\n",
       "       'LM, ST, CM', 'CAM, CF, RM', 'CF, ST, RM', 'LM, ST, LB',\n",
       "       'ST, CAM, LW', 'LWB, CM, LB', 'RWB, RM, LWB', 'LWB, LM, RB',\n",
       "       'CM, LW, ST', 'LB, LM, CB', 'CM, RM, RB', 'RWB, CB', 'RM, RB, RWB',\n",
       "       'LB, CM, LM', 'ST, LW, CF', 'RM, RWB, ST', 'CF, ST, CM',\n",
       "       'LM, LB, LWB', 'LM, RW', 'LM, LWB, LB', 'LB, LWB, RB',\n",
       "       'RM, RB, LM', 'RM, CM, LM', 'LW, ST, CAM', 'RB, RM, CB',\n",
       "       'LWB, RWB, LB', 'CF, RM, RW', 'RM, CF, CAM', 'LM, LW, CF',\n",
       "       'RB, LM, LB', 'CAM, CM, RW', 'LB, CM, LW', 'CM, CF, CAM',\n",
       "       'RW, RM, ST', 'CDM, RB, CM', 'CM, RB', 'RB, RWB, RW', 'LM, RW, RM',\n",
       "       'CM, RB, CDM', 'LM, RM, LB', 'CDM, RB, CB', 'RB, CB, RM',\n",
       "       'RWB, LW, LM', 'ST, CF, RW', 'RM, CM, CDM', 'LM, CF, ST',\n",
       "       'LW, CAM, LM', 'CDM, LM, CM', 'ST, CM, CAM', 'LM, RM, RWB',\n",
       "       'CM, CAM, RW', 'CAM, LM, RW', 'LW, LM, RM', 'CAM, RW, CF',\n",
       "       'LM, ST, RW', 'CB, LWB, LB', 'RW, CF, LW', 'CB, CM, CDM',\n",
       "       'CB, CAM', 'LW, LB', 'CDM, RB, LB', 'ST, CM, RB', 'RWB, LWB, RB',\n",
       "       'CM, CB, RB', 'LB, LW, RB', 'CF, RM, RWB', 'LB, RM', 'RM, RW, RB',\n",
       "       'LB, RM, RB', 'CDM, RM, CM', 'CDM, LB, CM', 'LM, CDM, CM',\n",
       "       'RW, LM, CAM', 'LM, LB, RM', 'RM, CF, ST', 'RW, CM', 'RM, RWB, LM',\n",
       "       'CF, CM, ST', 'RW, RM, LM', 'LM, CM, RW', 'RWB, CM', 'RB, RM, CDM',\n",
       "       'CM, CB, CAM', 'CF, CM, LM', 'RWB, LWB, RM', 'CF, RM',\n",
       "       'CM, CF, ST', 'RWB, RB, CB', 'LWB, RWB', 'RM, LM, LW',\n",
       "       'LW, RM, CM', 'LW, CAM, ST', 'ST, RM, RWB', 'ST, CM',\n",
       "       'CDM, CM, RWB', 'LB, CB, RB', 'CB, ST, CAM', 'CF, RM, CM',\n",
       "       'CDM, CB, RB', 'CM, LM, RB', 'RB, CB, LWB', 'LM, LB, CDM',\n",
       "       'LW, LWB', 'RW, CF, CAM', 'RM, RB, CAM', 'LB, RB, CM',\n",
       "       'RM, CDM, LM', 'LWB, LB, CB', 'LB, RB, CDM', 'RB, CM, LB',\n",
       "       'CDM, RM', 'LM, RB, CB', 'RW, RWB, RM', 'RM, LW, ST',\n",
       "       'LB, RB, LWB', 'RM, LM, CDM', 'RB, RM, CAM', 'RM, ST, LW',\n",
       "       'CF, LM', 'RB, LB, CDM', 'RW, LW, RB', 'RB, RWB, CDM',\n",
       "       'CM, CAM, LB', 'LW, RW, LWB', 'CB, LWB, RWB', 'LB, CB, CDM',\n",
       "       'ST, RB, RM', 'CM, RB, RM', 'RW, LM', 'RM, CF, RB', 'CB, RM, RB',\n",
       "       'RWB, LWB', 'CM, ST, CDM', 'LWB, LW', 'CB, RB, ST', 'LB, LWB, CDM',\n",
       "       'CB, RWB, RM', 'CB, ST', 'CM, ST', 'LM, LWB, CB', 'ST, LW, LWB',\n",
       "       'LM, CDM, RM', 'LWB, LB, RW', 'RB, CM, CB', 'LM, RW, ST',\n",
       "       'CM, RM, LW', 'ST, RW, LM', 'RWB, CM, RM', 'CAM, RWB, CM',\n",
       "       'CM, RB, LM', 'RM, RB, RW', 'LW, LM, CM', 'RM, LM, LWB',\n",
       "       'ST, LM, CF', 'LW, RM, CAM', 'RB, RWB, LWB', 'LB, CM, ST',\n",
       "       'ST, LWB', 'RB, ST, LM', 'CDM, CAM, LM', 'LM, ST, LWB',\n",
       "       'LB, RB, RW', 'RM, CDM', 'RB, LB, LWB', 'RW, CAM, LM',\n",
       "       'LB, CDM, LM', 'RW, RB, LM', 'CB, LM', 'RW, LM, RM', 'RM, LB, CM',\n",
       "       'LW, CAM, RM', 'RW, RB, LB', 'LW, LB, LM', 'CDM, RB, RWB',\n",
       "       'CB, RW', 'CM, LM, LW', 'LM, RM, CB', 'LM, LWB, ST', 'ST, CB, CDM',\n",
       "       'LB, CDM, CB', 'CDM, CB, RM', 'RB, RWB, CM', 'ST, RW, CF',\n",
       "       'ST, CB', 'ST, LW, CM', 'LM, LB, ST', 'ST, CB, RB', 'RB, LM',\n",
       "       'GK, RB', 'LM, LW, CM', 'LM, CM, LW', 'CB, CAM, CM', 'LM, RB',\n",
       "       'RWB, CAM', 'RB, CAM', 'CB, CDM, RM', 'ST, RB', 'ST, RWB',\n",
       "       'CAM, CDM, LM', 'CB, RWB, RB', 'LM, LWB, RM', 'LB, LM, CM',\n",
       "       'CM, CF, LM', 'CM, RWB', 'CDM, LM', 'ST, CF, RM', 'CAM, LB',\n",
       "       'RB, RM, ST', 'LM, CDM', 'CDM, RW, RB', 'LM, CF, CAM',\n",
       "       'LWB, LM, RWB', 'CF, RM, ST', 'CAM, CF, LM', 'RB, ST, CB',\n",
       "       'RW, RB, LW', 'LB, LM, CDM', 'RB, CB, ST', 'RWB, CB, RB',\n",
       "       'CDM, ST', 'LW, RM, LM', 'RB, LWB', 'CDM, LB, CB', 'LM, LB, CF',\n",
       "       'RB, CDM, LB', 'LB, LWB, CM', 'RM, LM, CB', 'CAM, LW, CF',\n",
       "       'LB, LW, CM', 'RB, CM, CDM', 'LWB, LM, ST', 'CM, RW, RM', 'CB, RM',\n",
       "       'CM, LM, CB', 'LM, LB, CB', 'ST, RW, CM', 'RM, ST, CM',\n",
       "       'RWB, RM, LM', 'CM, CAM, RB', 'CM, RWB, CDM', 'LB, LWB, LW'],\n",
       "      dtype=object)"
      ]
     },
     "execution_count": 196,
     "metadata": {},
     "output_type": "execute_result"
    }
   ],
   "source": [
    "df['Positions'].unique()"
   ]
  },
  {
   "cell_type": "code",
   "execution_count": 197,
   "metadata": {},
   "outputs": [
    {
     "data": {
      "text/plain": [
       "array(['CF RW, ST,', 'LW ST,', 'GK', 'CAM, CM', 'CAM LW,', 'ST', 'RW',\n",
       "       'LW, RW ST,', 'CB', 'LW', 'CDM', 'CF, ST', 'LW, RW', 'CDM, CM',\n",
       "       'CDM, RB', 'CAM CF,', 'LW, ST', 'CM', 'CF, LW ST,', 'CAM LM, RM,',\n",
       "       'RB', 'CAM, CM RW,', 'LB', 'CF LM,', 'CF', 'LW RW,', 'CAM, RM, RW',\n",
       "       'CDM CM,', 'CAM, CF, ST', 'CAM CDM, CM,', 'CAM CF, LW,',\n",
       "       'CAM, CF RM,', 'LM, ST', 'LM, RM, RW', 'LM', 'CAM, RW', 'CB, CDM',\n",
       "       'RM RW,', 'CF LW,', 'CM, LM RM,', 'LB, LM', 'CAM, CM, RM',\n",
       "       'CAM, CF CM,', 'CAM, CF', 'LM, LW RM,', 'CM LB, LM,', 'CM, LB LM,',\n",
       "       'RM, RW', 'CM RM,', 'CAM, CM, LW', 'CB, LB', 'RB RM,', 'RW ST,',\n",
       "       'LM, LW RW,', 'LB RB,', 'RB, RM', 'RM', 'CF LM, RM,', 'CAM, RM',\n",
       "       'RB, RWB', 'CB, CDM, CM', 'CAM, RM, ST', 'LM, LW, RM', 'CAM CM,',\n",
       "       'CF RM, ST,', 'LM, RM', 'CF RM,', 'LM, LWB', 'CF RM, RW,',\n",
       "       'CM RB,', 'CAM, LW, RW', 'CAM, CM LW,', 'CAM, CDM CM,',\n",
       "       'CAM LW, RW,', 'CAM, CM, LM', 'CM, RM, ST', 'CDM, CM, RB',\n",
       "       'CAM ST,', 'CAM, LW, ST', 'CB, LB, LWB', 'RM, ST', 'CB, CDM, LB',\n",
       "       'RM RWB,', 'CM, LM, RM', 'CDM, CM RB,', 'LW, RM RW,', 'LM, LW',\n",
       "       'CM, LM', 'LB LM,', 'LB, LM, RM', 'LW, RM ST,', 'CAM, CM, ST',\n",
       "       'CF ST,', 'LB LWB,', 'LM LW, RW,', 'RM, RW, ST', 'LWB',\n",
       "       'CAM CF, ST,', 'CAM, LM, RM', 'CB RB,', 'LM ST,', 'CAM RW,',\n",
       "       'CAM LM,', 'RB RWB,', 'LW RW, ST,', 'CAM', 'RB, RM, RW', 'LB, LWB',\n",
       "       'CAM RM,', 'CAM, ST', 'CB CDM,', 'CF, LM, LW', 'CAM, LM, LW',\n",
       "       'CB, RB', 'CB, RB, RWB', 'LM, LW, ST', 'CM LW, ST,', 'CAM, CM RM,',\n",
       "       'CDM CM, LM,', 'LB, LM, LWB', 'CB, LB, RB', 'CAM, LW',\n",
       "       'RB, RM RWB,', 'RW, ST', 'LM LW,', 'CM RB, RM,', 'CAM, RW ST,',\n",
       "       'CM, LB RB,', 'RB, RW', 'CM LM,', 'CM LM, RM,', 'CB CDM, CM,',\n",
       "       'CF CM,', 'CF, LW, RW', 'RM ST,', 'CB LB,', 'RW, RWB',\n",
       "       'LM, RM ST,', 'RB RM, RWB,', 'CAM LM, ST,', 'CAM, CF ST,',\n",
       "       'CM LW,', 'LB RB, RWB,', 'LM RM,', 'CAM LW, ST,', 'CAM RM, RW,',\n",
       "       'CDM, CM, RM', 'RB, RM, RWB', 'CAM, LM ST,', 'CF, RW',\n",
       "       'CAM, LW RM,', 'CDM CM, RM,', 'LB, LM LWB,', 'CF LW, RW,',\n",
       "       'CAM LM, LW,', 'LB LW, LWB,', 'CDM, CM, LM', 'CB, CM',\n",
       "       'RB RW, RWB,', 'RM RW, ST,', 'CM LW, RW,', 'LB, RB', 'LB LM, RB,',\n",
       "       'LM RM, ST,', 'CF, CM', 'CB, LB, LM', 'RM, RWB', 'LB, LM, RB',\n",
       "       'CB LB, RB,', 'CM LB,', 'CAM, CF, LW', 'LWB RM,', 'CF, LM ST,',\n",
       "       'CF, LW, ST', 'CAM RM, ST,', 'LW, RW, ST', 'LM LW, ST,', 'CM, LW',\n",
       "       'CDM, CM, LB', 'CAM CM, RM,', 'CAM CM, LM,', 'RWB', 'CAM, CM LM,',\n",
       "       'CAM, LM RM,', 'CAM LB, LM,', 'CAM, CDM', 'RB, RM RW,',\n",
       "       'RM, RW ST,', 'CF, RW ST,', 'LM, RB RM,', 'CB, RB, RM', 'CDM RB,',\n",
       "       'CB LB, LWB,', 'CDM, LB', 'LM, RM, ST', 'LWB RB, RWB,',\n",
       "       'CAM CF, LM,', 'CAM, CF, RW', 'LB RB, RM,', 'CDM, RWB',\n",
       "       'CAM CM, RW,', 'LM, RM, RWB', 'LB, RB, RM', 'LB LM, LW,',\n",
       "       'CAM, LM', 'LM, LW ST,', 'CF, LW', 'CM, LB, RB', 'CB, CDM RB,',\n",
       "       'CB, LB RB,', 'CAM, RM RW,', 'LM LWB,', 'CF, LM LW,',\n",
       "       'CAM, CF, CM', 'CB LWB,', 'CDM, CM, LW', 'CM, RM', 'LM RM, RW,',\n",
       "       'LB LWB, RM,', 'LB, RB RM,', 'CF, CM, RM', 'LM, RW ST,',\n",
       "       'CAM, LW ST,', 'CF LM, LW,', 'CM, LW RW,', 'CAM, RW, ST',\n",
       "       'LW LWB, RW,', 'LW RM, RW,', 'RW RWB,', 'CB CM,', 'CM RM, RW,',\n",
       "       'CM LWB,', 'LB LM, RM,', 'CDM, RB RM,', 'LB, RB, RWB',\n",
       "       'CAM RM, RWB,', 'CAM, CF LM,', 'LW RM, ST,', 'LB RB, RW,',\n",
       "       'CAM RW, ST,', 'CM, LB', 'LW, RM, RW', 'CM, RM, RW', 'CF, LM RM,',\n",
       "       'CF, LM, RM', 'CAM, RM ST,', 'CF RW,', 'CAM, CDM, CM',\n",
       "       'CAM, LB LM,', 'CAM, LW RW,', 'CAM CDM,', 'LB LM, LWB,', 'LB RW,',\n",
       "       'CAM, CF LW,', 'CB RB, RWB,', 'LW RM,', 'CAM, LM, ST', 'CM, LWB',\n",
       "       'CDM, RB, RM', 'CM, RB RM,', 'LM, LWB RM,', 'LM, RB ST,',\n",
       "       'CDM LB,', 'CB, CDM CM,', 'CB, CDM LB,', 'CAM, LM LW,',\n",
       "       'CAM, RB RM,', 'CM, RB, RM', 'CM, LM LW,', 'CM, LB, LM',\n",
       "       'LM, RM RWB,', 'CM, RM, RWB', 'LB, LM, LW', 'RB RW,',\n",
       "       'CM LM, LWB,', 'LM RB, RM,', 'CF LM, ST,', 'LWB, RM RW,',\n",
       "       'CB, RWB', 'CAM LW, RM,', 'LB, LW', 'CDM, CM, ST', 'CDM CM, LB,',\n",
       "       'CAM, CF, LM', 'LM, LW, RW', 'LW, LWB, RWB', 'CB, CDM, RB',\n",
       "       'CAM, CM ST,', 'LW, RW, RWB', 'CM, LM, ST', 'CM, LM LWB,',\n",
       "       'LB, LM LW,', 'CAM CM, RB,', 'CM, RW', 'CB, LWB', 'CAM, RB',\n",
       "       'LB, LM RM,', 'CB, CM RB,', 'CM, RB, RWB', 'LB, LM RB,',\n",
       "       'LB, LW, RW', 'CM LM, ST,', 'CAM, CF, RM', 'CF, RM ST,',\n",
       "       'LB LM, ST,', 'CM, LB LWB,', 'LWB RM, RWB,', 'LM, LWB, RB',\n",
       "       'CM, LW, ST', 'CB LB, LM,', 'CB RWB,', 'CF LW, ST,', 'RM, RWB, ST',\n",
       "       'CF, CM ST,', 'LM, RW', 'LB, LWB, RB', 'CB RB, RM,',\n",
       "       'LB LWB, RWB,', 'CF, RM, RW', 'CAM CF, RM,', 'CAM, CM, RW',\n",
       "       'CM, LB, LW', 'CAM CF, CM,', 'CM, RB', 'RB, RW RWB,', 'LM, RM RW,',\n",
       "       'CDM CM, RB,', 'CB CDM, RB,', 'LM LW, RWB,', 'CF, LM, ST',\n",
       "       'CDM, CM LM,', 'CAM CM, ST,', 'CAM, LM, RW', 'CAM, CF RW,',\n",
       "       'CB, LB LWB,', 'CF, LW RW,', 'CAM CB,', 'LB LW,', 'CDM, LB RB,',\n",
       "       'CM, RB ST,', 'LWB, RB RWB,', 'CB, CM, RB', 'LB, LW, RB',\n",
       "       'CF, RM, RWB', 'LB, RM', 'RB RM, RW,', 'CDM, CM RM,',\n",
       "       'CDM, CM LB,', 'CAM LM, RW,', 'CF, RM, ST', 'CM RW,',\n",
       "       'LM RM, RWB,', 'CF, CM, ST', 'CM, LM, RW', 'CM RWB,',\n",
       "       'CDM RB, RM,', 'CAM CB, CM,', 'CF, CM, LM', 'LWB, RM RWB,',\n",
       "       'CF, RM', 'LWB, RWB', 'CM LW, RM,', 'RM, RWB ST,', 'CM ST,',\n",
       "       'CDM, CM, RWB', 'CAM CB, ST,', 'CF, CM RM,', 'CM, LM, RB',\n",
       "       'CB, LWB RB,', 'CDM LB, LM,', 'LW, LWB', 'CAM CF, RW,',\n",
       "       'CAM RB, RM,', 'CM LB, RB,', 'CDM, LM RM,', 'CDM LB, RB,',\n",
       "       'CDM, RM', 'CB LM, RB,', 'RM RW, RWB,', 'LW, RM, ST',\n",
       "       'LB, LWB RB,', 'CDM LM, RM,', 'CF, LM', 'LW, RB RW,',\n",
       "       'CDM RB, RWB,', 'CAM, CM, LB', 'LW, LWB RW,', 'CB, LWB, RWB',\n",
       "       'RB, RM ST,', 'LM RW,', 'CF, RB RM,', 'CB, RB RM,', 'LWB RWB,',\n",
       "       'CDM CM, ST,', 'LW LWB,', 'CB, RB, ST', 'CDM LB, LWB,',\n",
       "       'CB, RM RWB,', 'CB, ST', 'CM, ST', 'CB LM, LWB,', 'LW, LWB ST,',\n",
       "       'CDM, LM, RM', 'LB, LWB, RW', 'CB CM, RB,', 'LM, RW, ST',\n",
       "       'CM, LW RM,', 'LM RW, ST,', 'CM, RM RWB,', 'CAM, CM RWB,',\n",
       "       'CM, LM RB,', 'CM LM, LW,', 'CM, LB, ST', 'LWB ST,', 'LM RB, ST,',\n",
       "       'CAM, CDM, LM', 'LM, LWB ST,', 'LB, RB, RW', 'CDM RM,',\n",
       "       'CAM, LM RW,', 'CDM, LB, LM', 'LM RB, RW,', 'CB, LM', 'CM LB, RM,',\n",
       "       'CAM, LW, RM', 'CDM, RB, RWB', 'CB, RW', 'CM, LM, LW',\n",
       "       'CB LM, RM,', 'LM, LWB, ST', 'CB, CDM ST,', 'CB CDM, LB,',\n",
       "       'CB, CDM, RM', 'CM RB, RWB,', 'CB ST,', 'LB, LM, ST', 'CB, RB ST,',\n",
       "       'LM RB,', 'GK, RB', 'CAM, CB, CM', 'LM, RB', 'CAM RWB,', 'CAM RB,',\n",
       "       'RB ST,', 'RWB ST,', 'CB, RB RWB,', 'LM, LWB, RM', 'CM, RWB',\n",
       "       'CDM, LM', 'CAM, LB', 'RB, RM, ST', 'CDM LM,', 'CDM, RB RW,',\n",
       "       'LM, LWB, RWB', 'CB RB, ST,', 'LW RB, RW,', 'CDM, ST',\n",
       "       'LM LW, RM,', 'LWB RB,', 'CF LB, LM,', 'CM LB, LWB,', 'CM LB, LW,',\n",
       "       'CM, RM RW,', 'CB, RM', 'CB CM, LM,', 'CM RW, ST,', 'CM RM, ST,',\n",
       "       'CAM, CM, RB', 'CDM CM, RWB,', 'LB, LW LWB,'], dtype=object)"
      ]
     },
     "execution_count": 197,
     "metadata": {},
     "output_type": "execute_result"
    }
   ],
   "source": [
    "temp_position = []\n",
    "for x in range(len(df['Positions'])):\n",
    "    y = sorted(df['Positions'][x].split(\" \"))\n",
    "    yx = ' '.join(y)\n",
    "    temp_position.append(yx)\n",
    "\n",
    "df['Positions'] = temp_position\n",
    "df['Positions'] = df['Positions'].astype(object)\n",
    "df['Positions'].unique()"
   ]
  },
  {
   "cell_type": "markdown",
   "metadata": {},
   "source": [
    "NOTE: It sort the Positions column and split it."
   ]
  },
  {
   "cell_type": "code",
   "execution_count": 198,
   "metadata": {},
   "outputs": [],
   "source": [
    "Final_exam = 'D:/BIG DATA LEVEL-2/WEB ANALYTICS AND BUSINESS INTELLIGENCE/Drashti(8890040)_Final.xlsx'\n",
    "df.to_excel(Final_exam)"
   ]
  }
 ],
 "metadata": {
  "kernelspec": {
   "display_name": "Python 3",
   "language": "python",
   "name": "python3"
  },
  "language_info": {
   "codemirror_mode": {
    "name": "ipython",
    "version": 3
   },
   "file_extension": ".py",
   "mimetype": "text/x-python",
   "name": "python",
   "nbconvert_exporter": "python",
   "pygments_lexer": "ipython3",
   "version": "3.10.10"
  }
 },
 "nbformat": 4,
 "nbformat_minor": 2
}
